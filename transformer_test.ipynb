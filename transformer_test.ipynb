{
 "cells": [
  {
   "cell_type": "markdown",
   "id": "2512221e-67d4-4ea0-96ac-9857ca095b6b",
   "metadata": {},
   "source": [
    "# Import Statements"
   ]
  },
  {
   "cell_type": "code",
   "execution_count": 63,
   "id": "03ea2f7f-5e51-404c-93d4-8572c5850001",
   "metadata": {},
   "outputs": [],
   "source": [
    "import sys\n",
    "import os \n",
    "import glob\n",
    "import random \n",
    "import shutil\n",
    "import time\n",
    "\n",
    "if './vision_transformer' not in sys.path:\n",
    "    sys.path.append('./vision_transformer')\n",
    "\n",
    "dataset_path = './nabirds-data/nabirds'\n",
    "image_path = os.path.join(dataset_path + '/images/')\n",
    "\n",
    "import flax\n",
    "import jax\n",
    "import numpy as np\n",
    "import optax\n",
    "import tqdm\n",
    "\n",
    "from vit_jax import checkpoint\n",
    "from vit_jax import input_pipeline\n",
    "from vit_jax import utils\n",
    "from vit_jax import models\n",
    "from vit_jax import train\n",
    "from vit_jax.configs import augreg as augreg_config\n",
    "from vit_jax.configs import models as models_config\n",
    "from vit_jax.configs import common as common_config\n",
    "import ml_collections\n",
    "\n",
    "import self_utils\n",
    "\n",
    "from absl import logging\n",
    "import pandas as pd\n",
    "import seaborn as sns\n",
    "import tensorflow as tf\n",
    "import tensorflow_datasets as tfds\n",
    "from matplotlib import pyplot as plt"
   ]
  },
  {
   "cell_type": "markdown",
   "id": "2a0e55a6-2414-4bd2-a3a5-38a73ebb88a0",
   "metadata": {},
   "source": [
    "### Set logging functions"
   ]
  },
  {
   "cell_type": "code",
   "execution_count": 64,
   "id": "4e1027ec-cfc0-440b-9dbb-5a4dbab40ed1",
   "metadata": {},
   "outputs": [],
   "source": [
    "pd.options.display.max_colwidth = None\n",
    "logging.set_verbosity(logging.INFO)"
   ]
  },
  {
   "cell_type": "markdown",
   "id": "64d8accf-75c7-4762-995a-94a94b6456a2",
   "metadata": {},
   "source": [
    "### Set model configuration settings"
   ]
  },
  {
   "cell_type": "code",
   "execution_count": 65,
   "id": "8bcf02d4-9912-493f-a0ce-ebdd665b3bed",
   "metadata": {},
   "outputs": [],
   "source": [
    "config = common_config\n",
    "config.batch = 32"
   ]
  },
  {
   "cell_type": "markdown",
   "id": "ccb5b601-a04b-4da6-97cd-7ff51130ca46",
   "metadata": {},
   "source": [
    "### Import datasets"
   ]
  },
  {
   "cell_type": "code",
   "execution_count": 67,
   "id": "439dfaf4-56b3-4d32-a7f6-3361af19a67d",
   "metadata": {},
   "outputs": [
    {
     "name": "stdout",
     "output_type": "stream",
     "text": [
      "Found 48562 files belonging to 555 classes.\n",
      "Using 38850 files for training.\n",
      "Using 9712 files for validation.\n"
     ]
    }
   ],
   "source": [
    "ds_train, ds_test = self_utils.tf_load_images(image_path, batch_size = config.batch, img_size=(224,224), split=0.2)"
   ]
  },
  {
   "cell_type": "markdown",
   "id": "df3efeed-3bab-44ff-b269-d6694e5ab800",
   "metadata": {},
   "source": [
    "### Download pre-trained model"
   ]
  },
  {
   "cell_type": "code",
   "execution_count": 70,
   "id": "57d1264c-efa3-481f-84d3-008c27c0c49a",
   "metadata": {},
   "outputs": [
    {
     "name": "stdout",
     "output_type": "stream",
     "text": [
      "/usr/bin/bash: line 1: gsutil: command not found\n"
     ]
    },
    {
     "ename": "AssertionError",
     "evalue": "",
     "output_type": "error",
     "traceback": [
      "\u001b[31m---------------------------------------------------------------------------\u001b[39m",
      "\u001b[31mAssertionError\u001b[39m                            Traceback (most recent call last)",
      "\u001b[36mCell\u001b[39m\u001b[36m \u001b[39m\u001b[32mIn[70]\u001b[39m\u001b[32m, line 12\u001b[39m\n\u001b[32m      9\u001b[39m \u001b[38;5;28;01mif\u001b[39;00m model_name.startswith(\u001b[33m'\u001b[39m\u001b[33mMixer\u001b[39m\u001b[33m'\u001b[39m):\n\u001b[32m     10\u001b[39m   get_ipython().system(\u001b[33m'\u001b[39m\u001b[33m[ -e \u001b[39m\u001b[33m\"\u001b[39m\u001b[33m$model_name\u001b[39m\u001b[33m\"\u001b[39m\u001b[33m.npz ] || gsutil cp gs://mixer_models/imagenet21k/\u001b[39m\u001b[33m\"\u001b[39m\u001b[33m$model_name\u001b[39m\u001b[33m\"\u001b[39m\u001b[33m.npz .\u001b[39m\u001b[33m'\u001b[39m)\n\u001b[32m---> \u001b[39m\u001b[32m12\u001b[39m \u001b[38;5;28;01massert\u001b[39;00m os.path.exists(\u001b[33mf\u001b[39m\u001b[33m'\u001b[39m\u001b[38;5;132;01m{\u001b[39;00mmodel_name\u001b[38;5;132;01m}\u001b[39;00m\u001b[33m.npz\u001b[39m\u001b[33m'\u001b[39m)\n",
      "\u001b[31mAssertionError\u001b[39m: "
     ]
    }
   ],
   "source": [
    "# Download a pre-trained model.\n",
    "\n",
    "# Note: you can really choose any of the above, but this Colab has been tested\n",
    "# with the models of below selection...\n",
    "model_name = 'ViT-B_32'  #@param [\"ViT-B_32\", \"Mixer-B_16\"]\n",
    "\n",
    "if model_name.startswith('ViT'):\n",
    "  ![ -e \"$model_name\".npz ] || gsutil cp gs://vit_models/imagenet21k/\"$model_name\".npz .\n",
    "if model_name.startswith('Mixer'):\n",
    "  ![ -e \"$model_name\".npz ] || gsutil cp gs://mixer_models/imagenet21k/\"$model_name\".npz .\n",
    "\n",
    "assert os.path.exists(f'{model_name}.npz')"
   ]
  },
  {
   "cell_type": "code",
   "execution_count": null,
   "id": "78779efd-e129-4816-a9a3-98a8ca637b75",
   "metadata": {},
   "outputs": [],
   "source": []
  }
 ],
 "metadata": {
  "kernelspec": {
   "display_name": "Python 3 (ipykernel)",
   "language": "python",
   "name": "python3"
  },
  "language_info": {
   "codemirror_mode": {
    "name": "ipython",
    "version": 3
   },
   "file_extension": ".py",
   "mimetype": "text/x-python",
   "name": "python",
   "nbconvert_exporter": "python",
   "pygments_lexer": "ipython3",
   "version": "3.12.8"
  }
 },
 "nbformat": 4,
 "nbformat_minor": 5
}
